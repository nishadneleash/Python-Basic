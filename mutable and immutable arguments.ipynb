{
 "cells": [
  {
   "cell_type": "code",
   "execution_count": 19,
   "id": "19957286-c1a3-4d27-b7e3-9f862e10b9be",
   "metadata": {},
   "outputs": [
    {
     "name": "stdout",
     "output_type": "stream",
     "text": [
      "Inside Function:\n",
      "Mutable list: [1, 2, 3, 100]\n",
      "immutable number: 60\n",
      "outside Function:\n",
      "mutable list: [1, 2, 3, 100]\n",
      "immutable number: 50\n"
     ]
    }
   ],
   "source": [
    "def demonstrate_mutable_immutable_function(mutable_list, immutable_number):\n",
    "#change mutuable number\n",
    "    mutable_list.append(100)\n",
    "#trying to modify immutable number \n",
    "    immutable_number += 10\n",
    "\n",
    "#inside thee function\n",
    "    print(\"Inside Function:\")\n",
    "    print(\"Mutable list:\", mutable_list)\n",
    "    print(\"immutable number:\", immutable_number)\n",
    "\n",
    "\n",
    "#origial number number\n",
    "my_list = [1,2,3]\n",
    "my_number = 50\n",
    "\n",
    "#call the function \n",
    "demonstrate_mutable_immutable_function(my_list,my_number)\n",
    "print(\"outside Function:\")\n",
    "print(\"mutable list:\", my_list)\n",
    "print(\"immutable number:\", my_number)\n",
    "\n",
    "\n",
    "\n"
   ]
  }
 ],
 "metadata": {
  "kernelspec": {
   "display_name": "Python 3 (ipykernel)",
   "language": "python",
   "name": "python3"
  },
  "language_info": {
   "codemirror_mode": {
    "name": "ipython",
    "version": 3
   },
   "file_extension": ".py",
   "mimetype": "text/x-python",
   "name": "python",
   "nbconvert_exporter": "python",
   "pygments_lexer": "ipython3",
   "version": "3.11.9"
  }
 },
 "nbformat": 4,
 "nbformat_minor": 5
}
