{
 "cells": [
  {
   "cell_type": "code",
   "execution_count": 4,
   "id": "898d3a3d-a727-4829-948f-57979ce1accc",
   "metadata": {},
   "outputs": [
    {
     "name": "stdin",
     "output_type": "stream",
     "text": [
      "Enter the first number 10\n",
      "Enter the Second number 20\n"
     ]
    },
    {
     "name": "stdout",
     "output_type": "stream",
     "text": [
      "\n",
      " results\n",
      "Addition 30.0\n",
      "Subraction -10.0\n",
      "Multiplication 200.0\n",
      "Division 0.5\n"
     ]
    }
   ],
   "source": [
    "#enter two numbers by user\n",
    "num1 = float(input(\"Enter the first number\"))\n",
    "num2 = float(input(\"Enter the Second number\"))\n",
    "\n",
    "#for arthematic operation\n",
    "addition = num1 + num2\n",
    "subraction = num1 - num2\n",
    "multiplication = num1 * num2\n",
    " #for divison the number cannot be divided by zero\n",
    "if num2 != 0:\n",
    "    division = num1 / num2\n",
    "else:\n",
    "    division = \"Undefined cannot divide by Zero\"\n",
    "\n",
    "print(\"\\n results\")\n",
    "print(\"Addition\", addition)\n",
    "print(\"Subraction\", subraction)\n",
    "print(\"Multiplication\", multiplication)\n",
    "print(\"Division\", division)"
   ]
  }
 ],
 "metadata": {
  "kernelspec": {
   "display_name": "Python 3 (ipykernel)",
   "language": "python",
   "name": "python3"
  },
  "language_info": {
   "codemirror_mode": {
    "name": "ipython",
    "version": 3
   },
   "file_extension": ".py",
   "mimetype": "text/x-python",
   "name": "python",
   "nbconvert_exporter": "python",
   "pygments_lexer": "ipython3",
   "version": "3.11.9"
  }
 },
 "nbformat": 4,
 "nbformat_minor": 5
}
