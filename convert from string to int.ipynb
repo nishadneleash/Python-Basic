{
 "cells": [
  {
   "cell_type": "code",
   "execution_count": 15,
   "id": "14d10d45-4965-4c97-9761-745677da4d8c",
   "metadata": {},
   "outputs": [
    {
     "name": "stdin",
     "output_type": "stream",
     "text": [
      "Enter Something! 0\n"
     ]
    },
    {
     "name": "stdout",
     "output_type": "stream",
     "text": [
      "converted to int value 0\n",
      "converted to float 0.0\n",
      "converte to bool value True\n"
     ]
    }
   ],
   "source": [
    "#User input\n",
    "user_input = input(\"Enter Something!\")\n",
    "\n",
    "#convert the valuue to int\n",
    "int_value = int(user_input)\n",
    "print(\"converted to int value\" , int_value)\n",
    "\n",
    "#convert the value to float\n",
    "float_value = float(user_input)\n",
    "print(\"converted to float\", float_value)\n",
    "\n",
    "#convert to boolean value\n",
    "if user_input in [\"false\" , \"0\" , \"\", \"no\"]:\n",
    "    bool_value = True\n",
    "else:\n",
    "    bool_value = False\n",
    "print(\"converte to bool value\" , bool_value)\n"
   ]
  }
 ],
 "metadata": {
  "kernelspec": {
   "display_name": "Python 3 (ipykernel)",
   "language": "python",
   "name": "python3"
  },
  "language_info": {
   "codemirror_mode": {
    "name": "ipython",
    "version": 3
   },
   "file_extension": ".py",
   "mimetype": "text/x-python",
   "name": "python",
   "nbconvert_exporter": "python",
   "pygments_lexer": "ipython3",
   "version": "3.11.9"
  }
 },
 "nbformat": 4,
 "nbformat_minor": 5
}
