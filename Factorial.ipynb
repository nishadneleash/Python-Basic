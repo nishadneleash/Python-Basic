{
 "cells": [
  {
   "cell_type": "code",
   "execution_count": 5,
   "id": "41f67859-9920-469f-b755-ec5a955b1db5",
   "metadata": {},
   "outputs": [
    {
     "name": "stdin",
     "output_type": "stream",
     "text": [
      "Enter a positive integer:  32\n"
     ]
    },
    {
     "name": "stdout",
     "output_type": "stream",
     "text": [
      "Factorial of 32 is: 263130836933693530167218012160000000\n"
     ]
    }
   ],
   "source": [
    "# Ask the user to enter a number\n",
    "num = int(input(\"Enter a positive integer: \"))\n",
    "\n",
    "# Initialize factorial and counter\n",
    "factorial = 1\n",
    "i = 1\n",
    "\n",
    "if num == 0:\n",
    "    factorial = 1\n",
    "else:\n",
    "    \n",
    "    while i <= num:\n",
    "        factorial *= i\n",
    "        i += 1\n",
    "\n",
    "# Print the result\n",
    "print(\"Factorial of\", num, \"is:\", factorial)"
   ]
  }
 ],
 "metadata": {
  "kernelspec": {
   "display_name": "Python 3 (ipykernel)",
   "language": "python",
   "name": "python3"
  },
  "language_info": {
   "codemirror_mode": {
    "name": "ipython",
    "version": 3
   },
   "file_extension": ".py",
   "mimetype": "text/x-python",
   "name": "python",
   "nbconvert_exporter": "python",
   "pygments_lexer": "ipython3",
   "version": "3.11.9"
  }
 },
 "nbformat": 4,
 "nbformat_minor": 5
}
