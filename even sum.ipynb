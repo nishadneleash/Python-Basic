{
 "cells": [
  {
   "cell_type": "code",
   "execution_count": 3,
   "id": "ecad143e-e33f-4804-adbc-cd7601cd4359",
   "metadata": {},
   "outputs": [
    {
     "name": "stdout",
     "output_type": "stream",
     "text": [
      "sum of all eveen numbers 650\n"
     ]
    }
   ],
   "source": [
    "#initiazeing the varaibe to sstore\n",
    "even_sum = 0\n",
    "\n",
    "#condition to sum the even numbers\n",
    "for i in range(1,51):\n",
    "   if i % 2 == 0 : #check number is even\n",
    "        even_sum += i #add it i n sum\n",
    "print(\"sum of all eveen numbers\", even_sum)\n",
    "    "
   ]
  }
 ],
 "metadata": {
  "kernelspec": {
   "display_name": "Python 3 (ipykernel)",
   "language": "python",
   "name": "python3"
  },
  "language_info": {
   "codemirror_mode": {
    "name": "ipython",
    "version": 3
   },
   "file_extension": ".py",
   "mimetype": "text/x-python",
   "name": "python",
   "nbconvert_exporter": "python",
   "pygments_lexer": "ipython3",
   "version": "3.11.9"
  }
 },
 "nbformat": 4,
 "nbformat_minor": 5
}
