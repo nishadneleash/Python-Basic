{
 "cells": [
  {
   "cell_type": "code",
   "execution_count": null,
   "id": "1c273bc8-1bc1-432a-b60c-e4757ba434a1",
   "metadata": {},
   "outputs": [],
   "source": [
    "#sample user name and password\n",
    "correct_username = \"admin\"\n",
    "correct_password = \"1234\"\n",
    "\n",
    "#user input \n",
    "username = input(\"enter the username\")\n",
    "password = input(\"enter the password\")\n",
    "\n",
    "#and operation\n",
    "if correct_username == username and correct_password == password:\n",
    "    print(\"login Succesfull! access granted\")\n",
    "else:\n",
    "    print(\"Access not granted! incorrect username or password\")\n",
    "\n",
    "#or operation\n",
    "if username == \"admin\" or username == \"Manager\":\n",
    "    print(\"Welcome, Admin or Manager\")\n",
    "else:\n",
    "    print(\"user does not have admin/manager access\")\n",
    "\n",
    "#not operation\n",
    "is_block = False\n",
    "if not is_block:\n",
    "    print(\"account is active\")\n",
    "else:\n",
    "    print(\"account is blocked\")\n",
    "\n",
    "    "
   ]
  }
 ],
 "metadata": {
  "kernelspec": {
   "display_name": "Python 3 (ipykernel)",
   "language": "python",
   "name": "python3"
  },
  "language_info": {
   "codemirror_mode": {
    "name": "ipython",
    "version": 3
   },
   "file_extension": ".py",
   "mimetype": "text/x-python",
   "name": "python",
   "nbconvert_exporter": "python",
   "pygments_lexer": "ipython3",
   "version": "3.11.9"
  }
 },
 "nbformat": 4,
 "nbformat_minor": 5
}
