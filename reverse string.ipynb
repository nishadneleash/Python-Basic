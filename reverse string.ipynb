{
 "cells": [
  {
   "cell_type": "code",
   "execution_count": 3,
   "id": "fc9c3929-4044-4d03-9863-64d9d849e13a",
   "metadata": {},
   "outputs": [
    {
     "name": "stdin",
     "output_type": "stream",
     "text": [
      "enter the string hello\n"
     ]
    },
    {
     "name": "stdout",
     "output_type": "stream",
     "text": [
      "reverse string: olleh\n"
     ]
    }
   ],
   "source": [
    "#input ssome value\n",
    "text = input(\"enter the string\")\n",
    "\n",
    "#initiazlize the veraiable \n",
    "i = len(text)\n",
    "reverse_text = \"\"\n",
    "\n",
    "while i > 0:\n",
    "    i -= 1\n",
    "    reverse_text += text[i]\n",
    "print(\"reverse string:\", reverse_text)"
   ]
  }
 ],
 "metadata": {
  "kernelspec": {
   "display_name": "Python 3 (ipykernel)",
   "language": "python",
   "name": "python3"
  },
  "language_info": {
   "codemirror_mode": {
    "name": "ipython",
    "version": 3
   },
   "file_extension": ".py",
   "mimetype": "text/x-python",
   "name": "python",
   "nbconvert_exporter": "python",
   "pygments_lexer": "ipython3",
   "version": "3.11.9"
  }
 },
 "nbformat": 4,
 "nbformat_minor": 5
}
