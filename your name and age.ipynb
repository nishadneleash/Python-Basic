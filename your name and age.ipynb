{
 "cells": [
  {
   "cell_type": "code",
   "execution_count": 5,
   "id": "25b5f161-03fb-4663-b89e-360eb0644823",
   "metadata": {},
   "outputs": [
    {
     "name": "stdout",
     "output_type": "stream",
     "text": [
      "My Name is Neleash Nishad\n",
      "I m  27 Years old\n"
     ]
    }
   ],
   "source": [
    "name = \"Neleash Nishad\"\n",
    "Age = 27\n",
    "\n",
    "print(\"My Name is\", name)\n",
    "print(\"I m \",Age,\"Years old\")"
   ]
  }
 ],
 "metadata": {
  "kernelspec": {
   "display_name": "Python 3 (ipykernel)",
   "language": "python",
   "name": "python3"
  },
  "language_info": {
   "codemirror_mode": {
    "name": "ipython",
    "version": 3
   },
   "file_extension": ".py",
   "mimetype": "text/x-python",
   "name": "python",
   "nbconvert_exporter": "python",
   "pygments_lexer": "ipython3",
   "version": "3.11.9"
  }
 },
 "nbformat": 4,
 "nbformat_minor": 5
}
