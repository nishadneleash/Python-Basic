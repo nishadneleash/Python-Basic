{
 "cells": [
  {
   "cell_type": "code",
   "execution_count": 5,
   "id": "5f9999c4-b505-488e-99b0-2807fd4f1f3b",
   "metadata": {},
   "outputs": [
    {
     "name": "stdin",
     "output_type": "stream",
     "text": [
      "Enter a number -1\n"
     ]
    },
    {
     "name": "stdout",
     "output_type": "stream",
     "text": [
      "number is negative\n"
     ]
    }
   ],
   "source": [
    "#enter the number\n",
    "num = float(input(\"Enter a number\"))\n",
    "\n",
    "#check number is positive or negative\n",
    "if num > 0:\n",
    "    print(\"number is positive\")\n",
    "elif num < 0:\n",
    "    print(\"number is negative\")\n",
    "else :\n",
    "    print(\"number is zero\")\n",
    "                   "
   ]
  }
 ],
 "metadata": {
  "kernelspec": {
   "display_name": "Python 3 (ipykernel)",
   "language": "python",
   "name": "python3"
  },
  "language_info": {
   "codemirror_mode": {
    "name": "ipython",
    "version": 3
   },
   "file_extension": ".py",
   "mimetype": "text/x-python",
   "name": "python",
   "nbconvert_exporter": "python",
   "pygments_lexer": "ipython3",
   "version": "3.11.9"
  }
 },
 "nbformat": 4,
 "nbformat_minor": 5
}
