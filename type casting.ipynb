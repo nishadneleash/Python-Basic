{
 "cells": [
  {
   "cell_type": "code",
   "execution_count": 2,
   "id": "86e696b3-f0cd-4010-8341-fa3f32562d4f",
   "metadata": {},
   "outputs": [
    {
     "name": "stdout",
     "output_type": "stream",
     "text": [
      "original string ['10', '20', '30', '40']\n",
      "converted to int [10, 20, 30, 40]\n",
      "converted to float [10.0, 20.0, 30.0, 40.0]\n",
      "converted to bool [True, True, True, True]\n"
     ]
    }
   ],
   "source": [
    "#A list of string\n",
    "string_list = [\"10\", \"20\", \"30\", \"40\"]\n",
    "print(\"original string\", string_list)\n",
    "\n",
    "#convert each string to integer\n",
    "int_list = [int(item) for item in string_list]\n",
    "print(\"converted to int\", int_list)\n",
    "\n",
    "#convert each string to float\n",
    "int_float = [float(item) for item in string_list]\n",
    "print(\"converted to float\", int_float)\n",
    "\n",
    "#convert each string to boolean\n",
    "int_bool = [bool(item) for item in string_list]\n",
    "print(\"converted to bool\", int_bool)\n",
    "\n",
    "\n",
    "\n"
   ]
  }
 ],
 "metadata": {
  "kernelspec": {
   "display_name": "Python 3 (ipykernel)",
   "language": "python",
   "name": "python3"
  },
  "language_info": {
   "codemirror_mode": {
    "name": "ipython",
    "version": 3
   },
   "file_extension": ".py",
   "mimetype": "text/x-python",
   "name": "python",
   "nbconvert_exporter": "python",
   "pygments_lexer": "ipython3",
   "version": "3.11.9"
  }
 },
 "nbformat": 4,
 "nbformat_minor": 5
}
